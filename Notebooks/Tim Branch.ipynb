{
 "cells": [
  {
   "cell_type": "markdown",
   "id": "91dbaf73",
   "metadata": {},
   "source": [
    "# An Analysis of Political Contributions During the 2020 House of Representatives Election"
   ]
  },
  {
   "cell_type": "markdown",
   "id": "969a30e3",
   "metadata": {},
   "source": [
    "# TN Districts"
   ]
  },
  {
   "cell_type": "markdown",
   "id": "27c24ca2",
   "metadata": {},
   "source": [
    "## Progress"
   ]
  },
  {
   "cell_type": "markdown",
   "id": "f6363ba2",
   "metadata": {},
   "source": [
    "The Goobers have scraped the website"
   ]
  },
  {
   "cell_type": "markdown",
   "id": "edf1a067",
   "metadata": {},
   "source": [
    "## The Imports"
   ]
  },
  {
   "cell_type": "code",
   "execution_count": 1,
   "id": "1498e168",
   "metadata": {},
   "outputs": [],
   "source": [
    "import requests\n",
    "from bs4 import BeautifulSoup as BS\n",
    "import pandas as pd\n",
    "from datetime import datetime\n",
    "from lxml import html\n",
    "import requests\n",
    "import re"
   ]
  },
  {
   "cell_type": "markdown",
   "id": "509b3928",
   "metadata": {},
   "source": [
    "## The Soup Prep"
   ]
  },
  {
   "cell_type": "code",
   "execution_count": 2,
   "id": "985aa448",
   "metadata": {},
   "outputs": [],
   "source": [
    "def get_district (State, District):\n",
    "    url = \"https://www.opensecrets.org/races/candidates?cycle=2020&id=\"+State+District+\"&spec=N\"\n",
    "    page = requests.get(url)\n",
    "    soup = BS(page.content, 'html.parser')\n",
    "    #Demographic information soup.\n",
    "    persons = soup.findAll('div',  {'class':\"Members--list-item\"})\n",
    "    #Funds raised and spent soup.\n",
    "    money = soup.find_all('td', {'class': \"Members--number\"}) \n",
    "    #Loops for name, party, votes, state, etc.\n",
    "    for person in persons:\n",
    "        name_list.append(get_name (person))\n",
    "        party_list.append(get_party (person))\n",
    "        votes_received.append(votes (person))\n",
    "        state_list.append(State)\n",
    "        district_list.append(District)\n",
    "        winner_list.append(winner(person))\n",
    "        incumbent_list.append(incumbent(person))\n",
    "    #Loop for finding amount of money raised\n",
    "    starting_index = 0\n",
    "    end = len(money) //3 -1\n",
    "    raised.append(money[starting_index].text)\n",
    "    for index in range(end):\n",
    "        starting_index = starting_index + 3\n",
    "        raised.append(money[starting_index].text)\n",
    "    starting_index = 1\n",
    "    end = len(money) //3 -1\n",
    "    spent.append(money[starting_index].text)\n",
    "    for index in range(end):\n",
    "        starting_index = starting_index + 3\n",
    "        spent.append(money[starting_index].text)"
   ]
  },
  {
   "cell_type": "markdown",
   "id": "9c440f8f",
   "metadata": {},
   "source": [
    "## The Soup Functions"
   ]
  },
  {
   "cell_type": "code",
   "execution_count": 3,
   "id": "b7a76b3d",
   "metadata": {},
   "outputs": [],
   "source": [
    "#Function to clean name and append to list.\n",
    "def get_name (person):\n",
    "    member_text = person.find(\"h2\").text\n",
    "    member_text = member_text.replace(\"\\t\", \"\").replace(\"\\n\", \"\")\n",
    "    return re.search(r\"(.+) \\(.\\)\", member_text)[1]\n",
    "#Function to clean affiliation and append to list\n",
    "def get_party (person):\n",
    "    member_text = person.find(\"h2\").text\n",
    "    member_text = member_text.replace(\"\\t\", \"\").replace(\"\\n\", \"\")\n",
    "    return re.search(r\"\\((.)\\)\", member_text)[1]\n",
    "#Function clean votes and append to list.\n",
    "def votes (person):\n",
    "    member_text = person.find(\"h2\").text\n",
    "    member_text = member_text.replace(\"\\t\", \"\").replace(\"\\n\", \"\")\n",
    "    return re.search(\"\\((\\d+\\.\\d)\\%\", member_text)[1]\n",
    "#Function to find money raised, spent append to list\n",
    "def get_money(amount):\n",
    "    money_text = amount.text\n",
    "    return re.search(r\"\\d+.\\d{3}.\\d{3}\", money_text)[0]\n",
    "def winner(person):\n",
    "#Function finds if candidate is winner and append to list.   \n",
    "    if 'Winner' in [x.text for x in person.find_all('i')]:\n",
    "        return(True)\n",
    "    else:\n",
    "        return(False)\n",
    "#Function finds if canditdate was incumbant and append to list.\n",
    "def incumbent(person):\n",
    "    if 'Incumbent' in [x.text for x in person.find_all('i')]:\n",
    "        return(True)\n",
    "    else:\n",
    "        return(False)"
   ]
  },
  {
   "cell_type": "markdown",
   "id": "5564bd58",
   "metadata": {},
   "source": [
    "## The Master Lists"
   ]
  },
  {
   "cell_type": "code",
   "execution_count": 8,
   "id": "39a3a0da",
   "metadata": {},
   "outputs": [],
   "source": [
    "#Lists populated by the soup functions\n",
    "name_list = []\n",
    "party_list = []\n",
    "state_list = []\n",
    "district_list = []\n",
    "votes_received = []\n",
    "raised = []\n",
    "spent = []\n",
    "winner_list = []\n",
    "incumbent_list = []\n",
    "############################################\n",
    "#Pull this lever to feed soup to the panda:#\n",
    "############################################\n",
    "State = 'Vt' #Two letter state code\n",
    "for district in range(1, 2): #Districts in state\n",
    "    #converts numbers from range to strings\n",
    "    get_district(State, str(district).zfill(2))"
   ]
  },
  {
   "cell_type": "markdown",
   "id": "a642e7c6",
   "metadata": {},
   "source": [
    "## The Pandas Food\n",
    "### (╯°□°)╯︵ ┻━┻"
   ]
  },
  {
   "cell_type": "markdown",
   "id": "266ce478",
   "metadata": {},
   "source": [
    "> Don't feed the panda unless hungry!"
   ]
  },
  {
   "cell_type": "code",
   "execution_count": 9,
   "id": "8a5763c9",
   "metadata": {},
   "outputs": [],
   "source": [
    "#Dataframe constructed from lists and functions above.\n",
    "#Saves info from each state to its own local .csv.\n",
    "Shoots_and_Leaves = pd.DataFrame({\"Name\": name_list,\n",
    "              \"Party\": party_list, \n",
    "              \"Percent_Vote\": votes_received, \n",
    "              \"Amount_Raised\" : raised, \n",
    "              \"Amount_Spent\"  : spent,\n",
    "              \"State\" : state_list,\n",
    "              \"District\" : district_list,\n",
    "              \"Winner\" : winner_list,\n",
    "              \"Incumbent\" : incumbent_list \n",
    "             })\n",
    "Shoots_and_Leaves.to_csv(f'../Data/AllStates/{State}.csv', index=False) "
   ]
  },
  {
   "cell_type": "code",
   "execution_count": 3,
   "id": "3e5c77de",
   "metadata": {},
   "outputs": [
    {
     "name": "stderr",
     "output_type": "stream",
     "text": [
      "/tmp/ipykernel_219072/1083959715.py:3: FutureWarning: The default value of regex will change from True to False in a future version. In addition, single character regular expressions will *not* be treated as literal strings when regex=True.\n",
      "  df['Amount_Raised'] = df['Amount_Raised'].str.replace(',', '').str.replace('$', '')\n",
      "/tmp/ipykernel_219072/1083959715.py:4: FutureWarning: The default value of regex will change from True to False in a future version. In addition, single character regular expressions will *not* be treated as literal strings when regex=True.\n",
      "  df['Amount_Spent'] = df['Amount_Spent'].str.replace(',', '').str.replace('$', '')\n"
     ]
    },
    {
     "data": {
      "text/html": [
       "<div>\n",
       "<style scoped>\n",
       "    .dataframe tbody tr th:only-of-type {\n",
       "        vertical-align: middle;\n",
       "    }\n",
       "\n",
       "    .dataframe tbody tr th {\n",
       "        vertical-align: top;\n",
       "    }\n",
       "\n",
       "    .dataframe thead th {\n",
       "        text-align: right;\n",
       "    }\n",
       "</style>\n",
       "<table border=\"1\" class=\"dataframe\">\n",
       "  <thead>\n",
       "    <tr style=\"text-align: right;\">\n",
       "      <th></th>\n",
       "      <th>Name</th>\n",
       "      <th>Party</th>\n",
       "      <th>Percent_Vote</th>\n",
       "      <th>Amount_Raised</th>\n",
       "      <th>Amount_Spent</th>\n",
       "      <th>State</th>\n",
       "      <th>District</th>\n",
       "      <th>Winner</th>\n",
       "      <th>Incumbent</th>\n",
       "    </tr>\n",
       "  </thead>\n",
       "  <tbody>\n",
       "    <tr>\n",
       "      <th>0</th>\n",
       "      <td>Don Young</td>\n",
       "      <td>R</td>\n",
       "      <td>54.4</td>\n",
       "      <td>1922901</td>\n",
       "      <td>1790448</td>\n",
       "      <td>Ak</td>\n",
       "      <td>01</td>\n",
       "      <td>True</td>\n",
       "      <td>True</td>\n",
       "    </tr>\n",
       "    <tr>\n",
       "      <th>1</th>\n",
       "      <td>Alyse Galvin</td>\n",
       "      <td>I</td>\n",
       "      <td>45.3</td>\n",
       "      <td>5178452</td>\n",
       "      <td>5088103</td>\n",
       "      <td>Ak</td>\n",
       "      <td>01</td>\n",
       "      <td>False</td>\n",
       "      <td>False</td>\n",
       "    </tr>\n",
       "    <tr>\n",
       "      <th>3</th>\n",
       "      <td>Jerry Carl</td>\n",
       "      <td>R</td>\n",
       "      <td>64.9</td>\n",
       "      <td>1971321</td>\n",
       "      <td>1859349</td>\n",
       "      <td>Al</td>\n",
       "      <td>01</td>\n",
       "      <td>True</td>\n",
       "      <td>False</td>\n",
       "    </tr>\n",
       "    <tr>\n",
       "      <th>4</th>\n",
       "      <td>James Averhart</td>\n",
       "      <td>D</td>\n",
       "      <td>35.0</td>\n",
       "      <td>80095</td>\n",
       "      <td>78973</td>\n",
       "      <td>Al</td>\n",
       "      <td>01</td>\n",
       "      <td>False</td>\n",
       "      <td>False</td>\n",
       "    </tr>\n",
       "    <tr>\n",
       "      <th>5</th>\n",
       "      <td>Barry Moore</td>\n",
       "      <td>R</td>\n",
       "      <td>65.3</td>\n",
       "      <td>650807</td>\n",
       "      <td>669368</td>\n",
       "      <td>Al</td>\n",
       "      <td>02</td>\n",
       "      <td>True</td>\n",
       "      <td>False</td>\n",
       "    </tr>\n",
       "  </tbody>\n",
       "</table>\n",
       "</div>"
      ],
      "text/plain": [
       "             Name Party Percent_Vote  Amount_Raised  Amount_Spent State  \\\n",
       "0       Don Young     R         54.4        1922901       1790448    Ak   \n",
       "1    Alyse Galvin     I         45.3        5178452       5088103    Ak   \n",
       "3      Jerry Carl     R         64.9        1971321       1859349    Al   \n",
       "4  James Averhart     D         35.0          80095         78973    Al   \n",
       "5     Barry Moore     R         65.3         650807        669368    Al   \n",
       "\n",
       "  District Winner Incumbent  \n",
       "0       01   True      True  \n",
       "1       01  False     False  \n",
       "3       01   True     False  \n",
       "4       01  False     False  \n",
       "5       02   True     False  "
      ]
     },
     "execution_count": 3,
     "metadata": {},
     "output_type": "execute_result"
    }
   ],
   "source": [
    "import pandas as pd\n",
    "df = pd.read_csv('../Data/alldistricts.csv').drop_duplicates(keep = False)\n",
    "df['Amount_Raised'] = df['Amount_Raised'].str.replace(',', '').str.replace('$', '')\n",
    "df['Amount_Spent'] = df['Amount_Spent'].str.replace(',', '').str.replace('$', '')\n",
    "df[['Amount_Raised', 'Amount_Spent']] = df[['Amount_Raised', 'Amount_Spent']].apply(pd.to_numeric)\n",
    "df.head()"
   ]
  },
  {
   "cell_type": "code",
   "execution_count": 37,
   "id": "4b604158",
   "metadata": {},
   "outputs": [
    {
     "data": {
      "text/plain": [
       "Name             object\n",
       "Party            object\n",
       "Percent_Vote     object\n",
       "Amount_Raised     int64\n",
       "Amount_Spent      int64\n",
       "State            object\n",
       "District         object\n",
       "Winner           object\n",
       "Incumbent        object\n",
       "dtype: object"
      ]
     },
     "execution_count": 37,
     "metadata": {},
     "output_type": "execute_result"
    }
   ],
   "source": [
    "df.dtypes"
   ]
  },
  {
   "cell_type": "code",
   "execution_count": 84,
   "id": "11c6b277",
   "metadata": {},
   "outputs": [
    {
     "name": "stderr",
     "output_type": "stream",
     "text": [
      "/tmp/ipykernel_219072/3204914210.py:1: FutureWarning: Indexing with multiple keys (implicitly converted to a tuple of keys) will be deprecated, use a list instead.\n",
      "  win_raised = df.groupby(['State', 'District'])['Winner','Name',\"Amount_Raised\"].max()\n"
     ]
    },
    {
     "data": {
      "text/html": [
       "<div>\n",
       "<style scoped>\n",
       "    .dataframe tbody tr th:only-of-type {\n",
       "        vertical-align: middle;\n",
       "    }\n",
       "\n",
       "    .dataframe tbody tr th {\n",
       "        vertical-align: top;\n",
       "    }\n",
       "\n",
       "    .dataframe thead th {\n",
       "        text-align: right;\n",
       "    }\n",
       "</style>\n",
       "<table border=\"1\" class=\"dataframe\">\n",
       "  <thead>\n",
       "    <tr style=\"text-align: right;\">\n",
       "      <th></th>\n",
       "      <th></th>\n",
       "      <th>Winner</th>\n",
       "      <th>Name</th>\n",
       "      <th>Amount_Raised</th>\n",
       "    </tr>\n",
       "    <tr>\n",
       "      <th>State</th>\n",
       "      <th>District</th>\n",
       "      <th></th>\n",
       "      <th></th>\n",
       "      <th></th>\n",
       "    </tr>\n",
       "  </thead>\n",
       "  <tbody>\n",
       "    <tr>\n",
       "      <th>Ak</th>\n",
       "      <th>01</th>\n",
       "      <td>True</td>\n",
       "      <td>Don Young</td>\n",
       "      <td>5178452</td>\n",
       "    </tr>\n",
       "    <tr>\n",
       "      <th rowspan=\"4\" valign=\"top\">Al</th>\n",
       "      <th>01</th>\n",
       "      <td>True</td>\n",
       "      <td>Jerry Carl</td>\n",
       "      <td>1971321</td>\n",
       "    </tr>\n",
       "    <tr>\n",
       "      <th>02</th>\n",
       "      <td>True</td>\n",
       "      <td>Phyllis Harvey-Hall</td>\n",
       "      <td>650807</td>\n",
       "    </tr>\n",
       "    <tr>\n",
       "      <th>03</th>\n",
       "      <td>True</td>\n",
       "      <td>Mike D Rogers</td>\n",
       "      <td>1193111</td>\n",
       "    </tr>\n",
       "    <tr>\n",
       "      <th>04</th>\n",
       "      <td>True</td>\n",
       "      <td>Robert B Aderholt</td>\n",
       "      <td>1255076</td>\n",
       "    </tr>\n",
       "  </tbody>\n",
       "</table>\n",
       "</div>"
      ],
      "text/plain": [
       "               Winner                 Name  Amount_Raised\n",
       "State District                                           \n",
       "Ak    01         True            Don Young        5178452\n",
       "Al    01         True           Jerry Carl        1971321\n",
       "      02         True  Phyllis Harvey-Hall         650807\n",
       "      03         True        Mike D Rogers        1193111\n",
       "      04         True    Robert B Aderholt        1255076"
      ]
     },
     "execution_count": 84,
     "metadata": {},
     "output_type": "execute_result"
    }
   ],
   "source": [
    "#Dataframe to calculate the relationship between winning and fundraising\n",
    "win_raised = df.groupby(['State', 'District'])['Winner','Name',\"Amount_Raised\"].max()\n",
    "win_raised.head()"
   ]
  },
  {
   "cell_type": "code",
   "execution_count": 68,
   "id": "da6adbe3",
   "metadata": {},
   "outputs": [
    {
     "name": "stdout",
     "output_type": "stream",
     "text": [
      "True     430\n",
      "False      4\n",
      "Name: Winner, dtype: int64\n",
      "The candidate who raised the most money in each district had a 99.08% chance of winning.\n"
     ]
    }
   ],
   "source": [
    "print(win_raised['Winner'].value_counts())\n",
    "print(\"The candidate who raised the most money in each district had a \"+str(round(430/434*100, 2))+'% chance of winning.')"
   ]
  },
  {
   "cell_type": "code",
   "execution_count": 87,
   "id": "fdc31e6e",
   "metadata": {
    "scrolled": true
   },
   "outputs": [
    {
     "name": "stderr",
     "output_type": "stream",
     "text": [
      "/tmp/ipykernel_219072/2733400.py:2: FutureWarning: Indexing with multiple keys (implicitly converted to a tuple of keys) will be deprecated, use a list instead.\n",
      "  win_spent = df.groupby(['State', 'District'])['Winner','Name',\"Amount_Spent\"].max()\n"
     ]
    },
    {
     "data": {
      "text/html": [
       "<div>\n",
       "<style scoped>\n",
       "    .dataframe tbody tr th:only-of-type {\n",
       "        vertical-align: middle;\n",
       "    }\n",
       "\n",
       "    .dataframe tbody tr th {\n",
       "        vertical-align: top;\n",
       "    }\n",
       "\n",
       "    .dataframe thead th {\n",
       "        text-align: right;\n",
       "    }\n",
       "</style>\n",
       "<table border=\"1\" class=\"dataframe\">\n",
       "  <thead>\n",
       "    <tr style=\"text-align: right;\">\n",
       "      <th></th>\n",
       "      <th></th>\n",
       "      <th>Winner</th>\n",
       "      <th>Name</th>\n",
       "      <th>Amount_Spent</th>\n",
       "    </tr>\n",
       "    <tr>\n",
       "      <th>State</th>\n",
       "      <th>District</th>\n",
       "      <th></th>\n",
       "      <th></th>\n",
       "      <th></th>\n",
       "    </tr>\n",
       "  </thead>\n",
       "  <tbody>\n",
       "    <tr>\n",
       "      <th>Ak</th>\n",
       "      <th>01</th>\n",
       "      <td>True</td>\n",
       "      <td>Don Young</td>\n",
       "      <td>5088103</td>\n",
       "    </tr>\n",
       "    <tr>\n",
       "      <th rowspan=\"4\" valign=\"top\">Al</th>\n",
       "      <th>01</th>\n",
       "      <td>True</td>\n",
       "      <td>Jerry Carl</td>\n",
       "      <td>1859349</td>\n",
       "    </tr>\n",
       "    <tr>\n",
       "      <th>02</th>\n",
       "      <td>True</td>\n",
       "      <td>Phyllis Harvey-Hall</td>\n",
       "      <td>669368</td>\n",
       "    </tr>\n",
       "    <tr>\n",
       "      <th>03</th>\n",
       "      <td>True</td>\n",
       "      <td>Mike D Rogers</td>\n",
       "      <td>1218564</td>\n",
       "    </tr>\n",
       "    <tr>\n",
       "      <th>04</th>\n",
       "      <td>True</td>\n",
       "      <td>Robert B Aderholt</td>\n",
       "      <td>1323812</td>\n",
       "    </tr>\n",
       "  </tbody>\n",
       "</table>\n",
       "</div>"
      ],
      "text/plain": [
       "               Winner                 Name  Amount_Spent\n",
       "State District                                          \n",
       "Ak    01         True            Don Young       5088103\n",
       "Al    01         True           Jerry Carl       1859349\n",
       "      02         True  Phyllis Harvey-Hall        669368\n",
       "      03         True        Mike D Rogers       1218564\n",
       "      04         True    Robert B Aderholt       1323812"
      ]
     },
     "execution_count": 87,
     "metadata": {},
     "output_type": "execute_result"
    }
   ],
   "source": [
    "#Dataframe to calculate the relationship between winning and spending\n",
    "win_spent = df.groupby(['State', 'District'])['Winner','Name',\"Amount_Spent\"].max()\n",
    "win_spent.head()"
   ]
  },
  {
   "cell_type": "code",
   "execution_count": 88,
   "id": "a9f001ea",
   "metadata": {},
   "outputs": [
    {
     "name": "stdout",
     "output_type": "stream",
     "text": [
      "True     430\n",
      "False      4\n",
      "Name: Winner, dtype: int64\n",
      "The candidate who raised the most money in each district had a 99.08% chance of winning.\n"
     ]
    }
   ],
   "source": [
    "print(win_spent['Winner'].value_counts())\n",
    "print(\"The candidate who raised the most money in each district had a \"+str(round(430/434*100, 2))+'% chance of winning.')"
   ]
  },
  {
   "cell_type": "markdown",
   "id": "a8f24442",
   "metadata": {},
   "source": [
    "4. Using your scraped data, investigates different relationships between candidates and the amount of money they raised. Here are some suggestions to get you started, but feel free to pose you own questions or do additional exploration:  \n",
    "    a. How often does the candidate who raised more money win a race?  \n",
    "    b. How often does the candidate who spent more money win a race?  \n",
    "    c. Does the difference between either money raised or money spent seem to influence the likelihood of a candidate winning a race?  \n",
    "    d. How often does the incumbent candidate win a race?  \n",
    "    e. Can you detect any relationship between amount of money raised and the incumbent status of a candidate?"
   ]
  },
  {
   "cell_type": "markdown",
   "id": "f251f7c9",
   "metadata": {},
   "source": [
    "### Bonus Questions:\n",
    "If you complete all of the above, you can attempt these challenging bonus questions."
   ]
  },
  {
   "cell_type": "markdown",
   "id": "a7e0d8de",
   "metadata": {},
   "source": [
    "Open Secrets also gives a detailed breakdown of contributions by source."
   ]
  },
  {
   "cell_type": "markdown",
   "id": "897e7ca8",
   "metadata": {},
   "source": [
    "Scrape these pages to get information on contributions by source. See if you can find anything interesting in terms of the source of contributions. Some examples to get you started:\n",
    "* What does the overall distribution of funding sources look like?\n",
    "* Is there any detectable difference in contribution sources between Democrat and Republican candidates?\n",
    "* Do the funding sources for either the winning candidate or incumbent candidate differ from the other candidates?"
   ]
  }
 ],
 "metadata": {
  "kernelspec": {
   "display_name": "Python 3 (ipykernel)",
   "language": "python",
   "name": "python3"
  },
  "language_info": {
   "codemirror_mode": {
    "name": "ipython",
    "version": 3
   },
   "file_extension": ".py",
   "mimetype": "text/x-python",
   "name": "python",
   "nbconvert_exporter": "python",
   "pygments_lexer": "ipython3",
   "version": "3.9.12"
  },
  "vscode": {
   "interpreter": {
    "hash": "9cc0023dd0500ed28e67985b04469bb742c0f0e8caa05f7ee20bd154dec9a3ec"
   }
  }
 },
 "nbformat": 4,
 "nbformat_minor": 5
}
