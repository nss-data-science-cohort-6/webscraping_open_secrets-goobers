{
 "cells": [
  {
   "cell_type": "markdown",
   "id": "969a30e3",
   "metadata": {},
   "source": [
    "# TN Districts"
   ]
  },
  {
   "cell_type": "markdown",
   "id": "27c24ca2",
   "metadata": {},
   "source": [
    "## Progress"
   ]
  },
  {
   "cell_type": "markdown",
   "id": "f6363ba2",
   "metadata": {},
   "source": [
    "The Goobers are still grappling with step #1"
   ]
  },
  {
   "cell_type": "markdown",
   "id": "edf1a067",
   "metadata": {},
   "source": [
    "## The Imports"
   ]
  },
  {
   "cell_type": "code",
   "execution_count": 98,
   "id": "1498e168",
   "metadata": {},
   "outputs": [],
   "source": [
    "import requests\n",
    "from bs4 import BeautifulSoup as BS\n",
    "import pandas as pd\n",
    "from datetime import datetime\n",
    "from lxml import html\n",
    "import requests\n",
    "import re"
   ]
  },
  {
   "cell_type": "markdown",
   "id": "509b3928",
   "metadata": {},
   "source": [
    "## The Soup Prep"
   ]
  },
  {
   "cell_type": "code",
   "execution_count": 106,
   "id": "db80bba4",
   "metadata": {},
   "outputs": [],
   "source": [
    "# variables to pass into the opensecrets url.\n",
    "#State = 'Tx'\n",
    "#District = '11'\n",
    "#opensecrets url with state and district variables passed.\n",
    "#note: the website will give data if the conventions used are incorrect. !!!USE EXTREME CAUTION!!!\n",
    "#eg. if you use `7` instead of `07` for districts, it won't throw an error. I'll take you to the wrong page.\n",
    "#tried dumping all district data into one soup object. Wanted to iterate `01` - `07`. The soup doesn't like it.\n",
    "#tried defining district variable as `0o7` instead of string. I though it would make the soup happy. It did not.\n",
    "url = \"https://www.opensecrets.org/races/candidates?cycle=2020&id=\"+State+District+\"&spec=N\"\n",
    "page = requests.get(url)\n",
    "# variables to make soup objects\n",
    "soup = BS(page.content, 'html.parser')\n",
    "persons = soup.findAll('div',  {'class':\"Members--list-item\"})\n",
    "# Geovanna's amazing contribution for finding funding.\n",
    "money = soup.find_all('td', {'class': \"Members--number\"})"
   ]
  },
  {
   "cell_type": "code",
   "execution_count": 107,
   "id": "a999b884",
   "metadata": {
    "scrolled": true
   },
   "outputs": [
    {
     "data": {
      "text/plain": [
       "<title>Texas District 11 2020 Race • OpenSecrets</title>"
      ]
     },
     "execution_count": 107,
     "metadata": {},
     "output_type": "execute_result"
    }
   ],
   "source": [
    "#The soup's title\n",
    "#rerun this cell if changing district/state variables from cell above.\n",
    "soup.title"
   ]
  },
  {
   "cell_type": "code",
   "execution_count": 108,
   "id": "50b1f8b9",
   "metadata": {},
   "outputs": [
    {
     "name": "stdout",
     "output_type": "stream",
     "text": [
      "[]\n"
     ]
    }
   ],
   "source": [
    "#The soup will not give me money.\n",
    "print(money)"
   ]
  },
  {
   "cell_type": "markdown",
   "id": "9c440f8f",
   "metadata": {},
   "source": [
    "## The Soup Functions"
   ]
  },
  {
   "cell_type": "code",
   "execution_count": 109,
   "id": "b7a76b3d",
   "metadata": {},
   "outputs": [],
   "source": [
    "person = persons \n",
    "def get_name (person):\n",
    "    member_text = person.find(\"h2\").text\n",
    "    member_text = member_text.replace(\"\\t\", \"\").replace(\"\\n\", \"\")\n",
    "    return re.search(r\"(.+) \\(.\\)\", member_text)[1]\n",
    "#Function to find candidate's political affiliation\n",
    "def get_party (person):\n",
    "    member_text = person.find(\"h2\").text\n",
    "    member_text = member_text.replace(\"\\t\", \"\").replace(\"\\n\", \"\")\n",
    "    return re.search(r\"\\((.)\\)\", member_text)[1]\n",
    "#Function to find total number of votes each\n",
    "def votes (person):\n",
    "    member_text = person.find(\"h2\").text\n",
    "    member_text = member_text.replace(\"\\t\", \"\").replace(\"\\n\", \"\")\n",
    "    return re.search(\"\\((\\d+\\.\\d)\\%\", member_text)[1]\n",
    "#Function to find money raised and spent\n",
    "def money (person):\n",
    "    member_text = money.find(\"td\").text\n",
    "money \n",
    "\n",
    "\n",
    "\n",
    "#Missing Functions and associated lists\n",
    "\n",
    "#def state:\n",
    "#def district:\n",
    "#def incumbant:\n",
    "#def winner:\n",
    "#def money_raised(person):\n",
    "#def money_spent(person):"
   ]
  },
  {
   "cell_type": "markdown",
   "id": "1ceb605f",
   "metadata": {},
   "source": [
    "## The List Loops"
   ]
  },
  {
   "cell_type": "code",
   "execution_count": 112,
   "id": "6ec75d03",
   "metadata": {},
   "outputs": [],
   "source": [
    "# add other things later\n",
    "def get_district (State, District):\n",
    "    url = \"https://www.opensecrets.org/races/candidates?cycle=2020&id=\"+State+District+\"&spec=N\"\n",
    "    page = requests.get(url)\n",
    "    soup = BS(page.content, 'html.parser')\n",
    "    persons = soup.findAll('div',  {'class':\"Members--list-item\"})\n",
    "    #Geovanna's Code\n",
    "    money = soup.find_all('td', {'class': \"Members--number\"}) \n",
    "    #Loop for name list\n",
    "    for person in persons:\n",
    "        name_list.append(get_name (person))\n",
    "    #Loop for party affiliation list\n",
    "    for person in persons:\n",
    "        party_list.append(get_party (person))\n",
    "    #Loop for total votes recieved list\n",
    "    for person in persons:\n",
    "        votes_received.append(votes (person))\n",
    "    for person in money:\n",
    "        money_gotten.append \n",
    "\n"
   ]
  },
  {
   "cell_type": "markdown",
   "id": "5564bd58",
   "metadata": {},
   "source": [
    "## The Master Lists"
   ]
  },
  {
   "cell_type": "code",
   "execution_count": 126,
   "id": "fd7bc3cc",
   "metadata": {},
   "outputs": [],
   "source": [
    "name_list = []\n",
    "party_list = []\n",
    "votes_received = []\n",
    "funds = []"
   ]
  },
  {
   "cell_type": "code",
   "execution_count": 120,
   "id": "89d3d268",
   "metadata": {},
   "outputs": [
    {
     "data": {
      "text/plain": [
       "'06'"
      ]
     },
     "execution_count": 120,
     "metadata": {},
     "output_type": "execute_result"
    }
   ],
   "source": [
    "str(6).zfill(2)"
   ]
  },
  {
   "cell_type": "code",
   "execution_count": 130,
   "id": "5104f91c",
   "metadata": {},
   "outputs": [],
   "source": [
    "#This is state and district from the point of view of the function.\n",
    "for district in range(1, 10):\n",
    "    get_district('Tn', str(district).zfill(2))"
   ]
  },
  {
   "cell_type": "markdown",
   "id": "a642e7c6",
   "metadata": {},
   "source": [
    "## The Pandas Food\n",
    "### (╯°□°)╯︵ ┻━┻"
   ]
  },
  {
   "cell_type": "code",
   "execution_count": 131,
   "id": "8a5763c9",
   "metadata": {},
   "outputs": [
    {
     "data": {
      "text/html": [
       "<div>\n",
       "<style scoped>\n",
       "    .dataframe tbody tr th:only-of-type {\n",
       "        vertical-align: middle;\n",
       "    }\n",
       "\n",
       "    .dataframe tbody tr th {\n",
       "        vertical-align: top;\n",
       "    }\n",
       "\n",
       "    .dataframe thead th {\n",
       "        text-align: right;\n",
       "    }\n",
       "</style>\n",
       "<table border=\"1\" class=\"dataframe\">\n",
       "  <thead>\n",
       "    <tr style=\"text-align: right;\">\n",
       "      <th></th>\n",
       "      <th>Name</th>\n",
       "      <th>Party</th>\n",
       "      <th>Percent_Vote</th>\n",
       "    </tr>\n",
       "  </thead>\n",
       "  <tbody>\n",
       "    <tr>\n",
       "      <th>0</th>\n",
       "      <td>Diana Harshbarger</td>\n",
       "      <td>R</td>\n",
       "      <td>74.8</td>\n",
       "    </tr>\n",
       "    <tr>\n",
       "      <th>1</th>\n",
       "      <td>Blair Nicole Walsingham</td>\n",
       "      <td>D</td>\n",
       "      <td>22.4</td>\n",
       "    </tr>\n",
       "    <tr>\n",
       "      <th>2</th>\n",
       "      <td>Tim Burchett</td>\n",
       "      <td>R</td>\n",
       "      <td>67.7</td>\n",
       "    </tr>\n",
       "    <tr>\n",
       "      <th>3</th>\n",
       "      <td>Renee Hoyos</td>\n",
       "      <td>D</td>\n",
       "      <td>31.0</td>\n",
       "    </tr>\n",
       "    <tr>\n",
       "      <th>4</th>\n",
       "      <td>Chuck Fleischmann</td>\n",
       "      <td>R</td>\n",
       "      <td>67.3</td>\n",
       "    </tr>\n",
       "    <tr>\n",
       "      <th>5</th>\n",
       "      <td>Meg Gorman</td>\n",
       "      <td>D</td>\n",
       "      <td>30.5</td>\n",
       "    </tr>\n",
       "    <tr>\n",
       "      <th>6</th>\n",
       "      <td>Scott Desjarlais</td>\n",
       "      <td>R</td>\n",
       "      <td>66.7</td>\n",
       "    </tr>\n",
       "    <tr>\n",
       "      <th>7</th>\n",
       "      <td>Christopher Hale</td>\n",
       "      <td>D</td>\n",
       "      <td>33.3</td>\n",
       "    </tr>\n",
       "    <tr>\n",
       "      <th>8</th>\n",
       "      <td>Jim Cooper</td>\n",
       "      <td>D</td>\n",
       "      <td>100.0</td>\n",
       "    </tr>\n",
       "    <tr>\n",
       "      <th>9</th>\n",
       "      <td>John Rose</td>\n",
       "      <td>R</td>\n",
       "      <td>73.7</td>\n",
       "    </tr>\n",
       "    <tr>\n",
       "      <th>10</th>\n",
       "      <td>Mark Green</td>\n",
       "      <td>R</td>\n",
       "      <td>69.9</td>\n",
       "    </tr>\n",
       "    <tr>\n",
       "      <th>11</th>\n",
       "      <td>Kiran Sreepada</td>\n",
       "      <td>D</td>\n",
       "      <td>27.3</td>\n",
       "    </tr>\n",
       "    <tr>\n",
       "      <th>12</th>\n",
       "      <td>Ronald Brown</td>\n",
       "      <td>I</td>\n",
       "      <td>2.2</td>\n",
       "    </tr>\n",
       "    <tr>\n",
       "      <th>13</th>\n",
       "      <td>Scott Vieira Jr</td>\n",
       "      <td>I</td>\n",
       "      <td>0.6</td>\n",
       "    </tr>\n",
       "    <tr>\n",
       "      <th>14</th>\n",
       "      <td>Diana Harshbarger</td>\n",
       "      <td>R</td>\n",
       "      <td>74.8</td>\n",
       "    </tr>\n",
       "    <tr>\n",
       "      <th>15</th>\n",
       "      <td>Blair Nicole Walsingham</td>\n",
       "      <td>D</td>\n",
       "      <td>22.4</td>\n",
       "    </tr>\n",
       "    <tr>\n",
       "      <th>16</th>\n",
       "      <td>Tim Burchett</td>\n",
       "      <td>R</td>\n",
       "      <td>67.7</td>\n",
       "    </tr>\n",
       "    <tr>\n",
       "      <th>17</th>\n",
       "      <td>Renee Hoyos</td>\n",
       "      <td>D</td>\n",
       "      <td>31.0</td>\n",
       "    </tr>\n",
       "    <tr>\n",
       "      <th>18</th>\n",
       "      <td>Chuck Fleischmann</td>\n",
       "      <td>R</td>\n",
       "      <td>67.3</td>\n",
       "    </tr>\n",
       "    <tr>\n",
       "      <th>19</th>\n",
       "      <td>Meg Gorman</td>\n",
       "      <td>D</td>\n",
       "      <td>30.5</td>\n",
       "    </tr>\n",
       "    <tr>\n",
       "      <th>20</th>\n",
       "      <td>Scott Desjarlais</td>\n",
       "      <td>R</td>\n",
       "      <td>66.7</td>\n",
       "    </tr>\n",
       "    <tr>\n",
       "      <th>21</th>\n",
       "      <td>Christopher Hale</td>\n",
       "      <td>D</td>\n",
       "      <td>33.3</td>\n",
       "    </tr>\n",
       "    <tr>\n",
       "      <th>22</th>\n",
       "      <td>Jim Cooper</td>\n",
       "      <td>D</td>\n",
       "      <td>100.0</td>\n",
       "    </tr>\n",
       "    <tr>\n",
       "      <th>23</th>\n",
       "      <td>John Rose</td>\n",
       "      <td>R</td>\n",
       "      <td>73.7</td>\n",
       "    </tr>\n",
       "    <tr>\n",
       "      <th>24</th>\n",
       "      <td>Mark Green</td>\n",
       "      <td>R</td>\n",
       "      <td>69.9</td>\n",
       "    </tr>\n",
       "    <tr>\n",
       "      <th>25</th>\n",
       "      <td>Kiran Sreepada</td>\n",
       "      <td>D</td>\n",
       "      <td>27.3</td>\n",
       "    </tr>\n",
       "    <tr>\n",
       "      <th>26</th>\n",
       "      <td>Ronald Brown</td>\n",
       "      <td>I</td>\n",
       "      <td>2.2</td>\n",
       "    </tr>\n",
       "    <tr>\n",
       "      <th>27</th>\n",
       "      <td>Scott Vieira Jr</td>\n",
       "      <td>I</td>\n",
       "      <td>0.6</td>\n",
       "    </tr>\n",
       "    <tr>\n",
       "      <th>28</th>\n",
       "      <td>David Kustoff</td>\n",
       "      <td>R</td>\n",
       "      <td>68.5</td>\n",
       "    </tr>\n",
       "    <tr>\n",
       "      <th>29</th>\n",
       "      <td>Erika Stotts Pearson</td>\n",
       "      <td>D</td>\n",
       "      <td>29.5</td>\n",
       "    </tr>\n",
       "    <tr>\n",
       "      <th>30</th>\n",
       "      <td>Steve Cohen</td>\n",
       "      <td>D</td>\n",
       "      <td>77.4</td>\n",
       "    </tr>\n",
       "    <tr>\n",
       "      <th>31</th>\n",
       "      <td>Charlotte Bergmann</td>\n",
       "      <td>R</td>\n",
       "      <td>20.1</td>\n",
       "    </tr>\n",
       "    <tr>\n",
       "      <th>32</th>\n",
       "      <td>Dennis Clark</td>\n",
       "      <td>I</td>\n",
       "      <td>1.6</td>\n",
       "    </tr>\n",
       "  </tbody>\n",
       "</table>\n",
       "</div>"
      ],
      "text/plain": [
       "                       Name Party Percent_Vote\n",
       "0         Diana Harshbarger     R         74.8\n",
       "1   Blair Nicole Walsingham     D         22.4\n",
       "2              Tim Burchett     R         67.7\n",
       "3               Renee Hoyos     D         31.0\n",
       "4         Chuck Fleischmann     R         67.3\n",
       "5                Meg Gorman     D         30.5\n",
       "6          Scott Desjarlais     R         66.7\n",
       "7          Christopher Hale     D         33.3\n",
       "8                Jim Cooper     D        100.0\n",
       "9                 John Rose     R         73.7\n",
       "10               Mark Green     R         69.9\n",
       "11           Kiran Sreepada     D         27.3\n",
       "12             Ronald Brown     I          2.2\n",
       "13          Scott Vieira Jr     I          0.6\n",
       "14        Diana Harshbarger     R         74.8\n",
       "15  Blair Nicole Walsingham     D         22.4\n",
       "16             Tim Burchett     R         67.7\n",
       "17              Renee Hoyos     D         31.0\n",
       "18        Chuck Fleischmann     R         67.3\n",
       "19               Meg Gorman     D         30.5\n",
       "20         Scott Desjarlais     R         66.7\n",
       "21         Christopher Hale     D         33.3\n",
       "22               Jim Cooper     D        100.0\n",
       "23                John Rose     R         73.7\n",
       "24               Mark Green     R         69.9\n",
       "25           Kiran Sreepada     D         27.3\n",
       "26             Ronald Brown     I          2.2\n",
       "27          Scott Vieira Jr     I          0.6\n",
       "28            David Kustoff     R         68.5\n",
       "29     Erika Stotts Pearson     D         29.5\n",
       "30              Steve Cohen     D         77.4\n",
       "31       Charlotte Bergmann     R         20.1\n",
       "32             Dennis Clark     I          1.6"
      ]
     },
     "execution_count": 131,
     "metadata": {},
     "output_type": "execute_result"
    }
   ],
   "source": [
    "pd.DataFrame({\"Name\": name_list, \"Party\": party_list, \"Percent_Vote\": votes_received})"
   ]
  },
  {
   "cell_type": "markdown",
   "id": "91dbaf73",
   "metadata": {},
   "source": [
    "# An Analysis of Political Contributions During the 2020 House of Representatives Election"
   ]
  },
  {
   "cell_type": "markdown",
   "id": "5d36d8ee",
   "metadata": {},
   "source": [
    "In this part, you will obtain as much data as you can on the campaign contributions received by each candidate. This data is avaiable through the website https://www.opensecrets.org/."
   ]
  },
  {
   "cell_type": "markdown",
   "id": "97eae620",
   "metadata": {},
   "source": [
    "1. Start by scraping the data from the summary page for Tennessee's 7th District, which is available at https://www.opensecrets.org/races/candidates?cycle=2020&id=TN07&spec=N.\n",
    "   \n",
    "\n",
    "* Make a DataFrame showing, for each candidate:\n",
    "    * the candidate's name\n",
    "    * the candidate's party\n",
    "    * state\n",
    "    * district number\n",
    "    * whether the candidate was an incumbent\n",
    "    * whether the candidate won the race\n",
    "    * the percentage of the vote that candidate received\n",
    "    * the total amount raised by that candidate (as a numeric variable)\n",
    "    * the total amount spent by the candidate (as a numeric variable)"
   ]
  },
  {
   "cell_type": "markdown",
   "id": "e2bcbe54",
   "metadata": {},
   "source": [
    "2. Once you have working code for Tennessee's 7th District, expand on your code to capture all of Tennessee's districts."
   ]
  },
  {
   "cell_type": "markdown",
   "id": "2da65ff9",
   "metadata": {},
   "source": [
    "3. Once you have working code for all of Tennessee's districts, expand on it to capture all states and districts. The number of representatives each state has can be found in a table on this page: https://www.britannica.com/topic/United-States-House-of-Representatives-Seats-by-State-1787120"
   ]
  },
  {
   "cell_type": "markdown",
   "id": "a8f24442",
   "metadata": {},
   "source": [
    "4. Using your scraped data, investigates different relationships between candidates and the amount of money they raised. Here are some suggestions to get you started, but feel free to pose you own questions or do additional exploration:  \n",
    "    a. How often does the candidate who raised more money win a race?  \n",
    "    b. How often does the candidate who spent more money win a race?  \n",
    "    c. Does the difference between either money raised or money spent seem to influence the likelihood of a candidate winning a race?  \n",
    "    d. How often does the incumbent candidate win a race?  \n",
    "    e. Can you detect any relationship between amount of money raised and the incumbent status of a candidate?"
   ]
  },
  {
   "cell_type": "markdown",
   "id": "f251f7c9",
   "metadata": {},
   "source": [
    "### Bonus Questions:\n",
    "If you complete all of the above, you can attempt these challenging bonus questions."
   ]
  },
  {
   "cell_type": "markdown",
   "id": "a7e0d8de",
   "metadata": {},
   "source": [
    "Open Secrets also gives a detailed breakdown of contributions by source."
   ]
  },
  {
   "cell_type": "markdown",
   "id": "897e7ca8",
   "metadata": {},
   "source": [
    "Scrape these pages to get information on contributions by source. See if you can find anything interesting in terms of the source of contributions. Some examples to get you started:\n",
    "* What does the overall distribution of funding sources look like?\n",
    "* Is there any detectable difference in contribution sources between Democrat and Republican candidates?\n",
    "* Do the funding sources for either the winning candidate or incumbent candidate differ from the other candidates?"
   ]
  }
 ],
 "metadata": {
  "kernelspec": {
   "display_name": "Python 3 (ipykernel)",
   "language": "python",
   "name": "python3"
  },
  "language_info": {
   "codemirror_mode": {
    "name": "ipython",
    "version": 3
   },
   "file_extension": ".py",
   "mimetype": "text/x-python",
   "name": "python",
   "nbconvert_exporter": "python",
   "pygments_lexer": "ipython3",
   "version": "3.9.12"
  },
  "vscode": {
   "interpreter": {
    "hash": "9cc0023dd0500ed28e67985b04469bb742c0f0e8caa05f7ee20bd154dec9a3ec"
   }
  }
 },
 "nbformat": 4,
 "nbformat_minor": 5
}
