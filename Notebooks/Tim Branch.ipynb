{
 "cells": [
  {
   "cell_type": "markdown",
   "id": "969a30e3",
   "metadata": {},
   "source": [
    "# TN Districts"
   ]
  },
  {
   "cell_type": "markdown",
   "id": "27c24ca2",
   "metadata": {},
   "source": [
    "## Progress"
   ]
  },
  {
   "cell_type": "markdown",
   "id": "f6363ba2",
   "metadata": {},
   "source": [
    "The Goobers are still grappling with step #1"
   ]
  },
  {
   "cell_type": "markdown",
   "id": "edf1a067",
   "metadata": {},
   "source": [
    "## The Imports"
   ]
  },
  {
   "cell_type": "code",
   "execution_count": 19,
   "id": "1498e168",
   "metadata": {},
   "outputs": [],
   "source": [
    "import requests\n",
    "from bs4 import BeautifulSoup as BS\n",
    "import pandas as pd\n",
    "from datetime import datetime\n",
    "from lxml import html\n",
    "import requests\n",
    "import re"
   ]
  },
  {
   "cell_type": "markdown",
   "id": "509b3928",
   "metadata": {},
   "source": [
    "## The Soup Prep"
   ]
  },
  {
   "cell_type": "code",
   "execution_count": 20,
   "id": "6ec75d03",
   "metadata": {},
   "outputs": [],
   "source": [
    "def get_district (State, District):\n",
    "    url = \"https://www.opensecrets.org/races/candidates?cycle=2020&id=\"+State+District+\"&spec=N\"\n",
    "    page = requests.get(url)\n",
    "    soup = BS(page.content, 'html.parser')\n",
    "    #Demographic information soup.\n",
    "    person = soup.findAll('div',  {'class':\"Members--list-item\"})\n",
    "    #Funds raised and spent soup.\n",
    "    money = soup.find_all('td', {'class': \"Members--number\"}) \n",
    "    #This is state and district from the point of view of the function.\n",
    "    for district in range(1, 10):\n",
    "        get_district('Tn', str(district).zfill(2))\n",
    "    #Loop for name list\n",
    "    for person in persons:\n",
    "        name_list.append(get_name (person))\n",
    "    #Loop for party affiliation list\n",
    "    for person in persons:\n",
    "        party_list.append(get_party (person))\n",
    "    #Loop for total votes recieved list\n",
    "    for person in persons:\n",
    "        votes_received.append(votes (person))\n",
    "    #Loop for \n",
    "    for person in money:\n",
    "        funds.appen\n",
    "\n"
   ]
  },
  {
   "cell_type": "markdown",
   "id": "9c440f8f",
   "metadata": {},
   "source": [
    "## The Soup Functions"
   ]
  },
  {
   "cell_type": "code",
   "execution_count": 21,
   "id": "b7a76b3d",
   "metadata": {},
   "outputs": [],
   "source": [
    "def get_name (person):\n",
    "    member_text = person.find(\"h2\").text\n",
    "    member_text = member_text.replace(\"\\t\", \"\").replace(\"\\n\", \"\")\n",
    "    return re.search(r\"(.+) \\(.\\)\", member_text)[1]\n",
    "#Function to find candidate's political affiliation\n",
    "def get_party (person):\n",
    "    member_text = person.find(\"h2\").text\n",
    "    member_text = member_text.replace(\"\\t\", \"\").replace(\"\\n\", \"\")\n",
    "    return re.search(r\"\\((.)\\)\", member_text)[1]\n",
    "#Function to find total number of votes each\n",
    "def votes (person):\n",
    "    member_text = person.find(\"h2\").text\n",
    "    member_text = member_text.replace(\"\\t\", \"\").replace(\"\\n\", \"\")\n",
    "    return re.search(\"\\((\\d+\\.\\d)\\%\", member_text)[1]\n",
    "#Function to find money raised and spent\n",
    "def get_money(amount):\n",
    "\n",
    "    money_text = amount.text\n",
    "    \n",
    "    return re.search(r\"\\d+.\\d{3}.\\d{3}\", money_text)[0]\n",
    "\n",
    "\n",
    "\n",
    "#Missing Functions and associated lists\n",
    "\n",
    "#def state:\n",
    "#def district:\n",
    "#def incumbant:\n",
    "#def winner:\n",
    "#def money_raised(person):\n",
    "#def money_spent(person):"
   ]
  },
  {
   "cell_type": "markdown",
   "id": "1ceb605f",
   "metadata": {},
   "source": [
    "## The List Loops"
   ]
  },
  {
   "cell_type": "markdown",
   "id": "5564bd58",
   "metadata": {},
   "source": [
    "## The Master Lists"
   ]
  },
  {
   "cell_type": "code",
   "execution_count": 22,
   "id": "fd7bc3cc",
   "metadata": {},
   "outputs": [],
   "source": [
    "name_list = []\n",
    "party_list = []\n",
    "votes_received = []\n",
    "funds = []"
   ]
  },
  {
   "cell_type": "code",
   "execution_count": null,
   "id": "89d3d268",
   "metadata": {},
   "outputs": [],
   "source": [
    "str(6).zfill(2)"
   ]
  },
  {
   "cell_type": "code",
   "execution_count": null,
   "id": "5104f91c",
   "metadata": {},
   "outputs": [],
   "source": [
    "#This is state and district from the point of view of the function.\n",
    "for district in range(1, 10):\n",
    "    get_district('Tn', str(district).zfill(2))"
   ]
  },
  {
   "cell_type": "markdown",
   "id": "a642e7c6",
   "metadata": {},
   "source": [
    "## The Pandas Food\n",
    "### (╯°□°)╯︵ ┻━┻"
   ]
  },
  {
   "cell_type": "code",
   "execution_count": null,
   "id": "8a5763c9",
   "metadata": {},
   "outputs": [],
   "source": [
    "pd.DataFrame({\"Name\": name_list, \"Party\": party_list, \"Percent_Vote\": votes_received})"
   ]
  },
  {
   "cell_type": "markdown",
   "id": "91dbaf73",
   "metadata": {},
   "source": [
    "# An Analysis of Political Contributions During the 2020 House of Representatives Election"
   ]
  },
  {
   "cell_type": "markdown",
   "id": "5d36d8ee",
   "metadata": {},
   "source": [
    "In this part, you will obtain as much data as you can on the campaign contributions received by each candidate. This data is avaiable through the website https://www.opensecrets.org/."
   ]
  },
  {
   "cell_type": "markdown",
   "id": "97eae620",
   "metadata": {},
   "source": [
    "1. Start by scraping the data from the summary page for Tennessee's 7th District, which is available at https://www.opensecrets.org/races/candidates?cycle=2020&id=TN07&spec=N.\n",
    "   \n",
    "\n",
    "* Make a DataFrame showing, for each candidate:\n",
    "    * the candidate's name\n",
    "    * the candidate's party\n",
    "    * state\n",
    "    * district number\n",
    "    * whether the candidate was an incumbent\n",
    "    * whether the candidate won the race\n",
    "    * the percentage of the vote that candidate received\n",
    "    * the total amount raised by that candidate (as a numeric variable)\n",
    "    * the total amount spent by the candidate (as a numeric variable)"
   ]
  },
  {
   "cell_type": "markdown",
   "id": "e2bcbe54",
   "metadata": {},
   "source": [
    "2. Once you have working code for Tennessee's 7th District, expand on your code to capture all of Tennessee's districts."
   ]
  },
  {
   "cell_type": "markdown",
   "id": "2da65ff9",
   "metadata": {},
   "source": [
    "3. Once you have working code for all of Tennessee's districts, expand on it to capture all states and districts. The number of representatives each state has can be found in a table on this page: https://www.britannica.com/topic/United-States-House-of-Representatives-Seats-by-State-1787120"
   ]
  },
  {
   "cell_type": "markdown",
   "id": "a8f24442",
   "metadata": {},
   "source": [
    "4. Using your scraped data, investigates different relationships between candidates and the amount of money they raised. Here are some suggestions to get you started, but feel free to pose you own questions or do additional exploration:  \n",
    "    a. How often does the candidate who raised more money win a race?  \n",
    "    b. How often does the candidate who spent more money win a race?  \n",
    "    c. Does the difference between either money raised or money spent seem to influence the likelihood of a candidate winning a race?  \n",
    "    d. How often does the incumbent candidate win a race?  \n",
    "    e. Can you detect any relationship between amount of money raised and the incumbent status of a candidate?"
   ]
  },
  {
   "cell_type": "markdown",
   "id": "f251f7c9",
   "metadata": {},
   "source": [
    "### Bonus Questions:\n",
    "If you complete all of the above, you can attempt these challenging bonus questions."
   ]
  },
  {
   "cell_type": "markdown",
   "id": "a7e0d8de",
   "metadata": {},
   "source": [
    "Open Secrets also gives a detailed breakdown of contributions by source."
   ]
  },
  {
   "cell_type": "markdown",
   "id": "897e7ca8",
   "metadata": {},
   "source": [
    "Scrape these pages to get information on contributions by source. See if you can find anything interesting in terms of the source of contributions. Some examples to get you started:\n",
    "* What does the overall distribution of funding sources look like?\n",
    "* Is there any detectable difference in contribution sources between Democrat and Republican candidates?\n",
    "* Do the funding sources for either the winning candidate or incumbent candidate differ from the other candidates?"
   ]
  }
 ],
 "metadata": {
  "kernelspec": {
   "display_name": "Python 3 (ipykernel)",
   "language": "python",
   "name": "python3"
  },
  "language_info": {
   "codemirror_mode": {
    "name": "ipython",
    "version": 3
   },
   "file_extension": ".py",
   "mimetype": "text/x-python",
   "name": "python",
   "nbconvert_exporter": "python",
   "pygments_lexer": "ipython3",
   "version": "3.9.12"
  },
  "vscode": {
   "interpreter": {
    "hash": "9cc0023dd0500ed28e67985b04469bb742c0f0e8caa05f7ee20bd154dec9a3ec"
   }
  }
 },
 "nbformat": 4,
 "nbformat_minor": 5
}
