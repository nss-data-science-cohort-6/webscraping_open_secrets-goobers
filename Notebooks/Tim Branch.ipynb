{
 "cells": [
  {
   "cell_type": "markdown",
   "id": "969a30e3",
   "metadata": {},
   "source": [
    "# TN Districts"
   ]
  },
  {
   "cell_type": "markdown",
   "id": "33065497",
   "metadata": {},
   "source": [
    "## Progress"
   ]
  },
  {
   "cell_type": "markdown",
   "id": "6fd6adb9",
   "metadata": {},
   "source": [
    "The Goobers are still grappling with step #1"
   ]
  },
  {
   "cell_type": "markdown",
   "id": "edf1a067",
   "metadata": {},
   "source": [
    "## The Imports"
   ]
  },
  {
   "cell_type": "code",
   "execution_count": 35,
   "id": "1498e168",
   "metadata": {},
   "outputs": [],
   "source": [
    "import requests\n",
    "from bs4 import BeautifulSoup as BS\n",
    "import pandas as pd\n",
    "from datetime import datetime\n",
    "from lxml import html\n",
    "import requests\n",
    "import re"
   ]
  },
  {
   "cell_type": "markdown",
   "id": "509b3928",
   "metadata": {},
   "source": [
    "## The Soup Prep"
   ]
  },
  {
   "cell_type": "code",
   "execution_count": 53,
   "id": "db80bba4",
   "metadata": {},
   "outputs": [],
   "source": [
    "# variables to pass into the opensecrets url.\n",
    "State = 'Tn'\n",
    "District = '07'\n",
    "#opensecrets url with state and district variables passed.\n",
    "#note: the website will give data if the conventions used are incorrect. !!!USE EXTREME CAUTION!!!\n",
    "#eg. if you use `7` instead of `07` for districts, it won't throw an error. I'll take you to the wrong page.\n",
    "#tried dumping all district data into one soup object. Wanted to iterate `01` - `07`. The soup doesn't like it.\n",
    "#tried defining district variable as `0o7` instead of string. I though it would make the soup happy. It did not.\n",
    "url = \"https://www.opensecrets.org/races/candidates?cycle=2020&id=\"+State+District+\"&spec=N\"\n",
    "page = requests.get(url)\n",
    "# variables to make soup objects\n",
    "soup = BS(page.content, 'html.parser')\n",
    "persons = soup.findAll('div',  {'class':\"Members--list-item\"})\n",
    "# money isn't correct. The soup won't give up its secrets.\n",
    "money = soup.findAll('table', {'class':\"Members--list-item\"})\n",
    "# usless, near as I can tell.  Will keep incase it proves useful.\n",
    "tbl = soup.find(\"table\",{\"id\":\"MainContent_dataGridView1\"})"
   ]
  },
  {
   "cell_type": "code",
   "execution_count": 55,
   "id": "a999b884",
   "metadata": {
    "scrolled": true
   },
   "outputs": [
    {
     "data": {
      "text/plain": [
       "<title>Tennessee District 07 2020 Race • OpenSecrets</title>"
      ]
     },
     "execution_count": 55,
     "metadata": {},
     "output_type": "execute_result"
    }
   ],
   "source": [
    "#The soup's title\n",
    "#rerun this cell if changing district/state variables from cell above.\n",
    "soup.title"
   ]
  },
  {
   "cell_type": "code",
   "execution_count": 57,
   "id": "50b1f8b9",
   "metadata": {},
   "outputs": [
    {
     "name": "stdout",
     "output_type": "stream",
     "text": [
      "[]\n"
     ]
    }
   ],
   "source": [
    "#The soup will not give me money.\n",
    "print(money)"
   ]
  },
  {
   "cell_type": "markdown",
   "id": "9c440f8f",
   "metadata": {},
   "source": [
    "## The Soup Functions"
   ]
  },
  {
   "cell_type": "code",
   "execution_count": 60,
   "id": "b7a76b3d",
   "metadata": {},
   "outputs": [],
   "source": [
    "# list of functions to find chunks of soup.\n",
    "# This is a combination of several cells from previous team collaboration.\n",
    "# lots of repeated code. Want to clean soup, not broken soup.\n",
    "person = persons # removed '[3]' because it was breaking code for other districts. Soup doesn't mind.\n",
    "#Function to find name of candidate\n",
    "def get_name (person):\n",
    "    member_text = person.find(\"h2\").text\n",
    "    member_text = member_text.replace(\"\\t\", \"\").replace(\"\\n\", \"\")\n",
    "    return re.search(r\"(.+) \\(.\\)\", member_text)[1]\n",
    "#Function to find candidate's political affiliation\n",
    "def get_party (person):\n",
    "    member_text = person.find(\"h2\").text\n",
    "    member_text = member_text.replace(\"\\t\", \"\").replace(\"\\n\", \"\")\n",
    "    return re.search(r\"\\((.)\\)\", member_text)[1]\n",
    "#Function to find total number of votes each\n",
    "def votes (person):\n",
    "    member_text = person.find(\"h2\").text\n",
    "    member_text = member_text.replace(\"\\t\", \"\").replace(\"\\n\", \"\")\n",
    "    return re.search(\"\\((\\d+\\.\\d)\\%\", member_text)[1]\n",
    "\n",
    "# \"person\" soup as cooked breaks down after this point.\n",
    "# money raised and money spent are in \"Members--table\"\n",
    "# information of interest is contained in \"<td>\" tags.\n",
    "\n",
    "#Missing Functions and associated lists\n",
    "\n",
    "#def state:\n",
    "#def district:\n",
    "#def incumbant:\n",
    "#def winner:\n",
    "#def money_raised(person):\n",
    "#def money_spent(person):"
   ]
  },
  {
   "cell_type": "markdown",
   "id": "1ceb605f",
   "metadata": {},
   "source": [
    "## The List Loops"
   ]
  },
  {
   "cell_type": "code",
   "execution_count": 47,
   "id": "998dbab4",
   "metadata": {},
   "outputs": [],
   "source": [
    "# for loops to pour soup functions into lists\n",
    "# This is a combination of several cells from previous team collaboration.\n",
    "# This could also be cleaned up. list comprehension?\n",
    "\n",
    "#Loop for name list\n",
    "name_list = []\n",
    "for person in persons:\n",
    "     name_list.append(get_name (person))\n",
    "#Loop for party affiliation list\n",
    "party_list = []\n",
    "for person in persons:\n",
    "    party_list.append(get_party (person))\n",
    "#Loop for total votes recieved list\n",
    "    votes_received = []\n",
    "for person in persons:\n",
    "    votes_received.append(votes (person))\n",
    "# once defined, functions for money raised, money spent, state, district, incumbant, and winner go here."
   ]
  },
  {
   "cell_type": "markdown",
   "id": "a642e7c6",
   "metadata": {},
   "source": [
    "## The Pandas Food\n",
    "### (╯°□°)╯︵ ┻━┻"
   ]
  },
  {
   "cell_type": "code",
   "execution_count": 49,
   "id": "8a5763c9",
   "metadata": {},
   "outputs": [
    {
     "data": {
      "text/html": [
       "<div>\n",
       "<style scoped>\n",
       "    .dataframe tbody tr th:only-of-type {\n",
       "        vertical-align: middle;\n",
       "    }\n",
       "\n",
       "    .dataframe tbody tr th {\n",
       "        vertical-align: top;\n",
       "    }\n",
       "\n",
       "    .dataframe thead th {\n",
       "        text-align: right;\n",
       "    }\n",
       "</style>\n",
       "<table border=\"1\" class=\"dataframe\">\n",
       "  <thead>\n",
       "    <tr style=\"text-align: right;\">\n",
       "      <th></th>\n",
       "      <th>Name</th>\n",
       "      <th>Party</th>\n",
       "      <th>Percent_Vote</th>\n",
       "    </tr>\n",
       "  </thead>\n",
       "  <tbody>\n",
       "    <tr>\n",
       "      <th>0</th>\n",
       "      <td>Mark Green</td>\n",
       "      <td>R</td>\n",
       "      <td>69.9</td>\n",
       "    </tr>\n",
       "    <tr>\n",
       "      <th>1</th>\n",
       "      <td>Kiran Sreepada</td>\n",
       "      <td>D</td>\n",
       "      <td>27.3</td>\n",
       "    </tr>\n",
       "    <tr>\n",
       "      <th>2</th>\n",
       "      <td>Ronald Brown</td>\n",
       "      <td>I</td>\n",
       "      <td>2.2</td>\n",
       "    </tr>\n",
       "    <tr>\n",
       "      <th>3</th>\n",
       "      <td>Scott Vieira Jr</td>\n",
       "      <td>I</td>\n",
       "      <td>0.6</td>\n",
       "    </tr>\n",
       "  </tbody>\n",
       "</table>\n",
       "</div>"
      ],
      "text/plain": [
       "              Name Party Percent_Vote\n",
       "0       Mark Green     R         69.9\n",
       "1   Kiran Sreepada     D         27.3\n",
       "2     Ronald Brown     I          2.2\n",
       "3  Scott Vieira Jr     I          0.6"
      ]
     },
     "execution_count": 49,
     "metadata": {},
     "output_type": "execute_result"
    }
   ],
   "source": [
    "# not behaving as I would expect.\n",
    "# I'm misunderstanding the append function.\n",
    "# I wanted to create lists, iterate through the url, make a new soup, then appended to data already in list.\n",
    "# When I do this, I capture the new district's data, but the previous district's lists are overwritten.\n",
    "pd.DataFrame({\"Name\": name_list, \"Party\": party_list, \"Percent_Vote\": votes_received})"
   ]
  },
  {
   "cell_type": "markdown",
   "id": "91dbaf73",
   "metadata": {},
   "source": [
    "# An Analysis of Political Contributions During the 2020 House of Representatives Election"
   ]
  },
  {
   "cell_type": "markdown",
   "id": "5d36d8ee",
   "metadata": {},
   "source": [
    "In this part, you will obtain as much data as you can on the campaign contributions received by each candidate. This data is avaiable through the website https://www.opensecrets.org/."
   ]
  },
  {
   "cell_type": "markdown",
   "id": "97eae620",
   "metadata": {},
   "source": [
    "1. Start by scraping the data from the summary page for Tennessee's 7th District, which is available at https://www.opensecrets.org/races/candidates?cycle=2020&id=TN07&spec=N.\n",
    "   \n",
    "\n",
    "* Make a DataFrame showing, for each candidate:\n",
    "    * the candidate's name\n",
    "    * the candidate's party\n",
    "    * state\n",
    "    * district number\n",
    "    * whether the candidate was an incumbent\n",
    "    * whether the candidate won the race\n",
    "    * the percentage of the vote that candidate received\n",
    "    * the total amount raised by that candidate (as a numeric variable)\n",
    "    * the total amount spent by the candidate (as a numeric variable)"
   ]
  },
  {
   "cell_type": "markdown",
   "id": "e2bcbe54",
   "metadata": {},
   "source": [
    "2. Once you have working code for Tennessee's 7th District, expand on your code to capture all of Tennessee's districts."
   ]
  },
  {
   "cell_type": "markdown",
   "id": "2da65ff9",
   "metadata": {},
   "source": [
    "3. Once you have working code for all of Tennessee's districts, expand on it to capture all states and districts. The number of representatives each state has can be found in a table on this page: https://www.britannica.com/topic/United-States-House-of-Representatives-Seats-by-State-1787120"
   ]
  },
  {
   "cell_type": "markdown",
   "id": "a8f24442",
   "metadata": {},
   "source": [
    "4. Using your scraped data, investigates different relationships between candidates and the amount of money they raised. Here are some suggestions to get you started, but feel free to pose you own questions or do additional exploration:  \n",
    "    a. How often does the candidate who raised more money win a race?  \n",
    "    b. How often does the candidate who spent more money win a race?  \n",
    "    c. Does the difference between either money raised or money spent seem to influence the likelihood of a candidate winning a race?  \n",
    "    d. How often does the incumbent candidate win a race?  \n",
    "    e. Can you detect any relationship between amount of money raised and the incumbent status of a candidate?"
   ]
  },
  {
   "cell_type": "markdown",
   "id": "f251f7c9",
   "metadata": {},
   "source": [
    "### Bonus Questions:\n",
    "If you complete all of the above, you can attempt these challenging bonus questions."
   ]
  },
  {
   "cell_type": "markdown",
   "id": "a7e0d8de",
   "metadata": {},
   "source": [
    "Open Secrets also gives a detailed breakdown of contributions by source."
   ]
  },
  {
   "cell_type": "markdown",
   "id": "897e7ca8",
   "metadata": {},
   "source": [
    "Scrape these pages to get information on contributions by source. See if you can find anything interesting in terms of the source of contributions. Some examples to get you started:\n",
    "* What does the overall distribution of funding sources look like?\n",
    "* Is there any detectable difference in contribution sources between Democrat and Republican candidates?\n",
    "* Do the funding sources for either the winning candidate or incumbent candidate differ from the other candidates?"
   ]
  }
 ],
 "metadata": {
  "kernelspec": {
   "display_name": "Python 3 (ipykernel)",
   "language": "python",
   "name": "python3"
  },
  "language_info": {
   "codemirror_mode": {
    "name": "ipython",
    "version": 3
   },
   "file_extension": ".py",
   "mimetype": "text/x-python",
   "name": "python",
   "nbconvert_exporter": "python",
   "pygments_lexer": "ipython3",
   "version": "3.9.12"
  },
  "vscode": {
   "interpreter": {
    "hash": "9cc0023dd0500ed28e67985b04469bb742c0f0e8caa05f7ee20bd154dec9a3ec"
   }
  }
 },
 "nbformat": 4,
 "nbformat_minor": 5
}
